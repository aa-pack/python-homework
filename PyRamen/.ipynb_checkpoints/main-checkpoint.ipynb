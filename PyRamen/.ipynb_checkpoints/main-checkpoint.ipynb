{
 "cells": [
  {
   "cell_type": "code",
   "execution_count": 7,
   "metadata": {},
   "outputs": [],
   "source": [
    "# Add dependent libraries\n",
    "from pathlib import Path\n",
    "import csv"
   ]
  },
  {
   "cell_type": "code",
   "execution_count": 8,
   "metadata": {},
   "outputs": [],
   "source": [
    "# Create File Path\n",
    "menu_csvpath = Path('../Resources/menu_data.csv')\n",
    "sales_csvpath = Path('../Resources/sales_data.csv')\n",
    "\n",
    "# Initialize Variables \n",
    "menu = []\n",
    "sales = []"
   ]
  },
  {
   "cell_type": "code",
   "execution_count": 9,
   "metadata": {},
   "outputs": [],
   "source": [
    "# Open the input path as a file object\n",
    "with open(menu_csvpath, 'r') as csvfile:\n",
    "    \n",
    "    # Pass in the csv file to the csv.reader() function\n",
    "    csvreader = csv.reader(csvfile, delimiter=',')\n",
    "    # Go to the next row from the start of the file - declare as the header\n",
    "    header = next(csvreader)\n",
    "    # Read each row of data after the header\n",
    "    for row in csvreader:\n",
    "        menu.append(row)\n",
    "\n",
    "# Open the input path as a file object\n",
    "with open(sales_csvpath, 'r') as csvfile:\n",
    "    \n",
    "    # Pass in the csv file to the csv.reader() function\n",
    "    csvreader = csv.reader(csvfile, delimiter=',')\n",
    "    # Go to the next row from the start of the file - declare as the header\n",
    "    header = next(csvreader)\n",
    "    # Read each row of data after the header\n",
    "    for row in csvreader:\n",
    "        sales.append(row)"
   ]
  },
  {
   "cell_type": "code",
   "execution_count": 17,
   "metadata": {},
   "outputs": [],
   "source": [
    "report = {}\n",
    "for sale in sales:\n",
    "    quantity = float(sale[3])\n",
    "    sales_item = sale[4]\n",
    "    if sales_item not in report:\n",
    "        report[sales_item] = {\"01-count\": 0,\"02-revenue\": 0,\"03-cogs\": 0,\"04-profit\": 0}\n",
    "    for menu_item in menu:\n",
    "        item = menu_item[0]\n",
    "        price = float(menu_item[3])\n",
    "        cost = float(menu_item[4])\n",
    "        profit = price - cost\n",
    "        if sales_item == item:\n",
    "            report[sales_item][\"01-count\"] += quantity\n",
    "            report[sales_item][\"02-revenue\"] += price * quantity\n",
    "            report[sales_item][\"03-cogs\"] += cost * quantity\n",
    "            report[sales_item][\"04-profit\"] += profit * quantity\n",
    "        # else:    \n",
    "            # print(f\"{sales_item} does not equal {item}! NO MATCH!\")\n",
    "# Format final report for output to pyramen-report.txt\n",
    "final_report = \"\"\n",
    "for k, v in report.items():\n",
    "    final_report += f\"{k}: {v}\\n\"\n",
    "\n",
    "# Set the output file path\n",
    "output_path = Path('../Resources/pyramen-report.txt')\n",
    "\n",
    "# Write results to results.txt\n",
    "results = open(output_path, 'w')\n",
    "results.write(final_report)\n",
    "results.close()        "
   ]
  }
 ],
 "metadata": {
  "kernelspec": {
   "display_name": "Python 3",
   "language": "python",
   "name": "python3"
  },
  "language_info": {
   "codemirror_mode": {
    "name": "ipython",
    "version": 3
   },
   "file_extension": ".py",
   "mimetype": "text/x-python",
   "name": "python",
   "nbconvert_exporter": "python",
   "pygments_lexer": "ipython3",
   "version": "3.7.7"
  }
 },
 "nbformat": 4,
 "nbformat_minor": 4
}
