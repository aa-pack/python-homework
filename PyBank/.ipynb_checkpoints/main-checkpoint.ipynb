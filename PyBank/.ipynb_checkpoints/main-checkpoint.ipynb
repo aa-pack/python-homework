{
 "cells": [
  {
   "cell_type": "code",
   "execution_count": 62,
   "metadata": {},
   "outputs": [],
   "source": [
    "# Add dependent libraries\n",
    "from pathlib import Path\n",
    "import csv"
   ]
  },
  {
   "cell_type": "code",
   "execution_count": 63,
   "metadata": {},
   "outputs": [],
   "source": [
    "# Create File Path\n",
    "csvpath = Path('../Resources/budget_data.csv')\n",
    "# Initialize Variables \n",
    "month_count = 0\n",
    "net_total_profit_loss = 0\n",
    "max_profit = 0\n",
    "max_profit_day = \"\"\n",
    "max_loss = 0\n",
    "max_loss_day = \"\""
   ]
  },
  {
   "cell_type": "code",
   "execution_count": 64,
   "metadata": {},
   "outputs": [
    {
     "name": "stdout",
     "output_type": "stream",
     "text": [
      "Financial Analysis\n",
      "--------------------------------\n",
      "Total Months: 86\n",
      "Net Total Profit/Loss: $38382578\n",
      "Average Profit/Loss: $446309.05\n",
      "Max Profit was: $1170593 on Feb-2012\n",
      "Max Loss was: $-1196225 on Sep-2013\n",
      "\n"
     ]
    }
   ],
   "source": [
    "# Open the input path as a file object\n",
    "with open(csvpath, 'r') as csvfile:\n",
    "    \n",
    "    # Pass in the csv file to the csv.reader() function\n",
    "    csvreader = csv.reader(csvfile, delimiter=',')\n",
    "    # Go to the next row from the start of the file\n",
    "    header = next(csvreader)\n",
    "    # Read each row of data after the header\n",
    "    for row in csvreader:\n",
    "        month_count += 1\n",
    "        net_total_profit_loss += int(row[1])\n",
    "        if int(row[1]) > max_profit:\n",
    "            max_profit = int(row[1])\n",
    "            max_profit_day = row[0]\n",
    "        if int(row[1]) < max_loss:\n",
    "            max_loss = int(row[1])\n",
    "            max_loss_day = row[0]\n",
    "        \n",
    "# Make string variables for all results - to make writing results to file very simple. \n",
    "title = f\"Financial Analysis\\n--------------------------------\\n\"\n",
    "total_months_results = f\"Total Months: {month_count}\\n\"\n",
    "net_total_profit_loss_results = f\"Net Total Profit/Loss: ${net_total_profit_loss}\\n\"\n",
    "average_profit_loss_results = f\"Average Profit/Loss: ${round(net_total_profit_loss / month_count , 2)}\\n\"\n",
    "max_profit_results = f\"Max Profit was: ${max_profit} on {max_profit_day}\\n\"\n",
    "min_profit_results = f\"Max Loss was: ${max_loss} on {max_loss_day}\\n\"\n",
    "final_results = f\"{title}{total_months_results}{net_total_profit_loss_results}{average_profit_loss_results}{max_profit_results}{min_profit_results}\"\n",
    "\n",
    "# Print results to terminal\n",
    "print(final_results)\n",
    "\n",
    "# Set the output file path\n",
    "output_path = Path('../Resources/results.txt')\n",
    "\n",
    "# Write results to results.txt\n",
    "results = open(output_path, 'w')\n",
    "results.write(final_results)\n",
    "results.close()"
   ]
  }
 ],
 "metadata": {
  "kernelspec": {
   "display_name": "Python 3",
   "language": "python",
   "name": "python3"
  },
  "language_info": {
   "codemirror_mode": {
    "name": "ipython",
    "version": 3
   },
   "file_extension": ".py",
   "mimetype": "text/x-python",
   "name": "python",
   "nbconvert_exporter": "python",
   "pygments_lexer": "ipython3",
   "version": "3.7.7"
  }
 },
 "nbformat": 4,
 "nbformat_minor": 4
}
